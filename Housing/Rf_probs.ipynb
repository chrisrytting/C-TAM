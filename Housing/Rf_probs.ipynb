{
 "cells": [
  {
   "cell_type": "code",
   "execution_count": 1,
   "metadata": {
    "collapsed": false
   },
   "outputs": [
    {
     "data": {
      "text/plain": [
       "u'/Users/chrisrytting1/vim/work/OSPC/C-TAM/Housing'"
      ]
     },
     "execution_count": 1,
     "metadata": {},
     "output_type": "execute_result"
    }
   ],
   "source": [
    "pwd"
   ]
  },
  {
   "cell_type": "code",
   "execution_count": 2,
   "metadata": {
    "collapsed": true
   },
   "outputs": [],
   "source": [
    "import pandas as pd\n",
    "from pandas import DataFrame\n",
    "import numpy as np\n",
    "import random\n",
    "import statsmodels.discrete.discrete_model as sm\n",
    "import matplotlib.pyplot as plt\n",
    "from sklearn.ensemble import RandomForestClassifier as rf\n"
   ]
  },
  {
   "cell_type": "code",
   "execution_count": 3,
   "metadata": {
    "collapsed": false,
    "scrolled": true
   },
   "outputs": [
    {
     "name": "stderr",
     "output_type": "stream",
     "text": [
      "/Users/chrisrytting1/anaconda/lib/python2.7/site-packages/IPython/core/interactiveshell.py:2717: DtypeWarning: Columns (5,23,24,29,83,265,282) have mixed types. Specify dtype option on import or set low_memory=False.\n",
      "  interactivity=interactivity, compiler=compiler, result=result)\n"
     ]
    }
   ],
   "source": [
    "def Init_CPS_Vars(CPS):\n",
    "\n",
    "    '''\n",
    "        Variables within the CPS that we use:\n",
    "\n",
    "    ssi_val     Supplemental Security income amount received\n",
    "    ssi_yn      Supplemental Security income received\n",
    "    ssikidyn    Supplemental Security income, child received\n",
    "    rednssi1    Supplemental Security income, reason 1\n",
    "    rednssi2    Supplemental Security income, reason 2\n",
    "    marsupwt    March supplement final weight\n",
    "    a_age       Age\n",
    "    a_spouse    Marital Status\n",
    "    fownu18     Non-married children under 18 in household\n",
    "    gestfips    FIPS State Code\n",
    "    pedisdrs    Disability, dressing or bathing\n",
    "    pedisear    Disability, hearing\n",
    "    pediseye    Disability, seeing\n",
    "    pedisout    Disability, doctor visits, shopping alone\n",
    "    pedisphy    Disability, walking, climbing stairs\n",
    "    pedisrem    Disability, remembering\n",
    "    dis_hp      Health problem or a disability which prevents working\n",
    "    rsnnotw     Reason for not working\n",
    "    vet_typ1    Veterans payments, type 1\n",
    "    pemlr       Monthly labor force recode\n",
    "    mcare       Medicare coverage\n",
    "    wsal_val    Total wage and salary earnings value\n",
    "    semp_val    Own business self-employment earnings, total value\n",
    "    frse_val    Farm self-employment earnings, total value\n",
    "    ss_val      Social Security payments received, value\n",
    "    rtm_val     Retirement income received, total amount\n",
    "    oi_off      Income sources, other\n",
    "    oi_val      Income, other (amount)\n",
    "    uc_yn       Unemployment compensation benefits received\n",
    "    uc_val      Unemployment compensation benefits value\n",
    "    int_yn      Interest received\n",
    "    int_val     Interest income received, amount+\n",
    "    ffpos       Record type and sequence indicator (similar numbers\n",
    "            indicate in same family)\n",
    "    fh_seq      Household sequence number (similar number indicate same Household)\n",
    "    finc_ssi    Supplemental Security benefits (Family)\n",
    "    ftot_r      Total family income\n",
    "    ftotval     Total family income\n",
    "    ptot_r      Person income, total\n",
    "    ptotval     Person income, total\n",
    "    peridnum    Unique Person identifier\n",
    "    '''\n",
    "    # These lists contain the column names that contain the missing data\n",
    "    Noneornot = ['ssi_val', 'csp_val', 'rnt_val', 'div_val', 'vet_val', 'wsal_val', 'semp_val', 'frse_val', 'ss_val', 'rtm_val', 'oi_val', 'uc_val', 'int_val', 'ftotval', 'ptotval', 'hwsval', 'pearnval', 'htotval']\n",
    "    NotInUniv = ['ssi_yn', 'dis_hp', 'rsnnotw', 'vet_typ1', 'uc_yn', 'int_yn', 'ptot_r', 'paw_yn', 'earner', 'hfdval']\n",
    "    NIU = ['ssikidyn', 'resnssi1', 'resnssi2', 'pedisdrs', 'pedisear', 'pediseye', 'pedisout', 'pedisphy', 'pedisrem', 'pemlr', 'oi_off']\n",
    "    # Add variables that indicate which entries of which columns contain missing values\n",
    "    for col in Noneornot:\n",
    "        CPS[col + '_missing_NoneIn'] = np.where(CPS[col] == 'None or not in universe', 1, 0)\n",
    "    for col in NotInUniv:\n",
    "        CPS[col + '_missing_NotIn'] = np.where(CPS[col] == 'Not in universe', 1, 0)\n",
    "    for col in NIU:\n",
    "        CPS[col + '_missing_NIU'] = np.where(CPS[col] == 'NIU', 1, 0)\n",
    "    \n",
    "    # Setting missing values equal to zero after adding binary variable\n",
    "    CPS = CPS.replace({'None or not in universe' : 0.}, regex = True)\n",
    "    CPS = CPS.replace({'Not in universe' : 0.}, regex = True)\n",
    "    CPS = CPS.replace({'NIU' : 0.}, regex = True)\n",
    "    CPS = CPS.replace({'Did not receive SSI' : 0.}, regex = True)\n",
    "    CPS = CPS.replace({'Received SSI' : 1.}, regex = True)\n",
    "    CPS = CPS.replace({'No' : 0.}, regex = True)\n",
    "    # Creating unearned income variable\n",
    "    CPS_unearned = (CPS[['fssval' ,'fretval' ,'foival' , 'fucval' , 'fintval', 'frntval', 'fdivval', 'fvetval', 'fcspval']].astype(float)).copy()\n",
    "    unearned_income = CPS_unearned.sum(axis = 1)\n",
    "    # Creating earned income variable\n",
    "    CPS_earned = (CPS[['fwsval' ,'fseval','ffrval']].astype(float)).copy()\n",
    "    earned_income = CPS_earned.sum(axis = 1)\n",
    "    # Determining current recipients of SSI benefit\n",
    "    CPS['current_recipient'] = np.where((CPS.ssi_yn =='Yes'), 1, 0)\n",
    "    CPS = CPS.replace({'Yes' : 1.}, regex = True)\n",
    "\n",
    "    CPS['fssival'] = (CPS['fssival'].astype(float)).copy()\n",
    "    CPS['earned_income'] = earned_income\n",
    "    CPS['unearned_income'] = unearned_income\n",
    "    # Below is a list of variables that are categorical but represented as strings\n",
    "    cols = ['a_ftpt', 'filestat', 'peridnum', 'ptot_r','ftot_r', 'pemlr', 'resnssi1', 'resnssi2', 'a_maritl', 'fownu18', 'oi_off', 'rsnnotw', 'pedisdrs', 'earner', 'prdtrace','hea', 'earner']\n",
    "    for col in cols:#Iterating through all of these categorical strings and converting to numbers below\n",
    "        CPS[col] = CPS[col].astype('category')\n",
    "\n",
    "    cat_columns = CPS.select_dtypes(['category']).columns\n",
    "    CPS[cat_columns] = CPS[cat_columns].apply(lambda x: x.cat.codes)\n",
    "\n",
    "    return CPS\n",
    "\n",
    "use_spm_data = False\n",
    "\n",
    "CPS = pd.read_csv('../cpsmar2014t.csv')\n",
    "CPS = Init_CPS_Vars(CPS)\n",
    "\n",
    "CPS.a_age = np.where(CPS.a_age == \"80-84 years of age\",\n",
    "                     np.mean(np.arange(80,85)),\n",
    "                     CPS.a_age)\n",
    "CPS.a_age = np.where(CPS.a_age == \"85+ years of age\",\n",
    "                     np.mean(np.arange(85,96)),\n",
    "                     CPS.a_age)\n",
    "CPS.a_age = pd.to_numeric(CPS.a_age)\n",
    "CPS['80_84__missing'] = np.where(CPS['a_age'] == np.mean(np.arange(80,85)), 1, 0)\n",
    "CPS['85_95__missing'] = np.where(CPS['a_age'] == np.mean(np.arange(85,86)), 1, 0)\n",
    "\n",
    "key1 = CPS.columns.to_series().groupby(CPS.dtypes).groups.keys()[1]\n",
    "cols =  CPS.columns.to_series().groupby(CPS.dtypes).groups[key1].values\n",
    "for col in cols:\n",
    "    CPS[col] = CPS[col].astype('category')\n",
    "CPS[cols] = CPS[cols].apply(lambda x: x.cat.codes)\n",
    "CPS = CPS.fillna(0) \n",
    "\n",
    "CPS_unearned = (CPS[['fssval' ,'fretval' ,'foival' , 'fucval' , 'fintval', 'frntval', 'fdivval', 'fvetval', 'fcspval']].astype(float)).copy()\n",
    "unearned_income = CPS_unearned.sum(axis = 1)\n",
    "# Creating earned income variable\n",
    "CPS_earned = (CPS[['fwsval' ,'fseval','ffrval']].astype(float)).copy()\n",
    "earned_income = CPS_earned.sum(axis = 1)\n",
    "# Determining current recipients of SSI benefit\n",
    "\n",
    "CPS['fam_earned_income'] = earned_income\n",
    "CPS['fam_unearned_income'] = unearned_income\n",
    "CPS.to_pickle('CPS_family.pickle')\n",
    "\n",
    "\n",
    "# CPS_dataset = pd.read_pickle('CPS_family.pickle')\n",
    "CPS_dataset = CPS.copy()"
   ]
  },
  {
   "cell_type": "code",
   "execution_count": 4,
   "metadata": {
    "collapsed": false,
    "scrolled": true
   },
   "outputs": [],
   "source": [
    "if use_spm_data == True:\n",
    "    # Get data from https://www.census.gov/data/datasets/2013/demo/supplemental-poverty-measure/spm.html SPM data from 2013 since 2014 cps reflects what happened in 2013\n",
    "    spm_data = pd.read_stata('spmresearch2013new.dta')\n",
    "    CPS_dataset = CPS_dataset.merge(spm_data[['spmu_caphousesub', 'h_seq', 'pppos']], on = ['h_seq', 'pppos'])\n",
    "    CPS_dataset['fhoussub'] = CPS_dataset['spmu_caphousesub']\n",
    "    CPS_dataset = CPS_dataset.drop('spmu_caphousesub', 1)\n",
    "\n",
    "\n",
    "#Removing those who receive hlorent, but who have no subsequent fhoussub value to describe it\n",
    "CPS_dataset.hlorent = np.where((CPS_dataset.hlorent == 1) & (CPS_dataset.fhoussub == 0),\n",
    "     0, CPS_dataset.hlorent)\n",
    "CPS_dataset.hpublic = np.where((CPS_dataset.hpublic == 1) & (CPS_dataset.fhoussub == 0),\n",
    "     0, CPS_dataset.hpublic)\n",
    "CPS_dataset['housing'] = np.where((CPS_dataset.hpublic == 1) | (CPS_dataset.hlorent == 1),\n",
    "     1, 0)\n",
    "CPS_dataset = CPS_dataset.drop(['hpublic', 'hlorent'],1)\n",
    "\n",
    "#Earned income\n",
    "p_earned = CPS_dataset.wsal_val + CPS_dataset.semp_val + CPS_dataset.frse_val #individual earned income\n",
    "CPS_dataset['p_earned'] = p_earned\n",
    "\n",
    "\n",
    "#Unearned income\n",
    "p_unearned = CPS_dataset.ss_val + CPS_dataset.rtm_val + CPS_dataset.div_val + \\\n",
    "    CPS_dataset.oi_off + CPS_dataset.uc_yn + CPS_dataset.int_yn\n",
    "CPS_dataset['p_unearned'] = p_unearned\n",
    "\n",
    "#Net Income\n",
    "CPS_dataset['family_net_income'] = p_earned + p_unearned\n",
    "\n",
    "#disabled (check reg if categorical or binary is better after the sum)\n",
    "CPS_dataset['disability'] = np.zeros(len(CPS_dataset))\n",
    "CPS_dataset.disability = np.where(CPS_dataset.pedisdrs == 1, 1, CPS_dataset.disability)\n",
    "CPS_dataset.disability = np.where(CPS_dataset.pedisear == 1, 1, CPS_dataset.disability)\n",
    "CPS_dataset.disability = np.where(CPS_dataset.pediseye == 1, 1, CPS_dataset.disability)\n",
    "CPS_dataset.disability = np.where(CPS_dataset.pedisout == 1, 1, CPS_dataset.disability)\n",
    "CPS_dataset.disability = np.where(CPS_dataset.pedisphy == 1, 1, CPS_dataset.disability)\n",
    "CPS_dataset.disability = np.where(CPS_dataset.pedisrem == 1, 1, CPS_dataset.disability)\n",
    "\n",
    "\n",
    "\n",
    "# #State residency of family and weights\n",
    "\n",
    "CPS_dataset_mean = CPS_dataset.groupby(['fh_seq', 'ffpos']).mean()\n",
    "CPS_dataset_sum = CPS_dataset.groupby(['fh_seq', 'ffpos']).sum()\n",
    "CPS_dataset2 = pd.merge(CPS_dataset_mean, CPS_dataset_sum, left_index = True, right_index = True, how = 'inner',\\\n",
    "                       suffixes = ('_mean', '_sum'))\n",
    "\n",
    "CPS = CPS_dataset2\n",
    "# CPS_dataset2.to_pickle('use_df_hlo_rf.pickle')"
   ]
  },
  {
   "cell_type": "code",
   "execution_count": 5,
   "metadata": {
    "collapsed": false
   },
   "outputs": [
    {
     "name": "stdout",
     "output_type": "stream",
     "text": [
      "[ 0.00348351  0.00105306  0.         ...,  0.00204017  0.00282958\n",
      "  0.00081407] ['hefaminc_mean' 'h_respnm_mean' 'h_year_mean' ..., 'p_unearned_sum'\n",
      " 'family_net_income_sum' 'disability_sum']\n",
      "score: 0.965046604527\n"
     ]
    }
   ],
   "source": [
    "# CPS = pd.read_pickle('use_df_hlo_rf.pickle')\n",
    "Rf = rf(n_estimators = 200) # Creating Random Forest \n",
    "CPS_use = CPS.drop('peridnum_mean', 1)\n",
    "CPS_use = CPS.drop('peridnum_sum', 1)\n",
    "\n",
    "#Splitting data into training and test sets\n",
    "train = CPS_use.sample(frac=0.8, random_state=1)\n",
    "train_x = train.copy()\n",
    "train_x = train_x.drop(['hunits_sum', 'hhpos_sum', 'h_seq_sum', 'hrecord_sum', 'ph_seq_sum',\\\n",
    "                        'housing_sum','fhoussub_sum', 'hssival_sum', 'hunits_mean', 'hhpos_mean',\\\n",
    "                        'h_seq_mean', 'hrecord_mean', 'ph_seq_mean','housing_mean','fhoussub_mean',\\\n",
    "                        'hssival_mean', 'hsup_wgt_mean', 'fsup_wgt_mean', 'marsupwt_mean',\\\n",
    "                        'hsup_wgt_sum', 'marsupwt_sum', 'fsup_wgt_sum','htotval_mean', 'peridnum_mean',\\\n",
    "                        'h_idnum1_sum', 'h_idnum1_mean','htotval_sum','hfdval_sum'],1)\n",
    "\n",
    "\n",
    "\n",
    "test_x = CPS_use.loc[~CPS_use.index.isin(train_x.index)]\n",
    "test_y = test_x['housing_mean']\n",
    "test_x = test_x.drop(['hunits_sum', 'hhpos_sum', 'h_seq_sum', 'hrecord_sum', 'ph_seq_sum',\\\n",
    "                        'housing_sum','fhoussub_sum', 'hssival_sum', 'hunits_mean', 'hhpos_mean',\\\n",
    "                        'h_seq_mean', 'hrecord_mean', 'ph_seq_mean','housing_mean','fhoussub_mean',\\\n",
    "                        'hssival_mean', 'hsup_wgt_mean', 'fsup_wgt_mean', 'marsupwt_mean',\\\n",
    "                        'hsup_wgt_sum', 'marsupwt_sum', 'fsup_wgt_sum','htotval_mean', 'peridnum_mean',\\\n",
    "                        'h_idnum1_sum', 'h_idnum1_mean','htotval_sum','hfdval_sum'],1)\n",
    "\n",
    "\n",
    "# Fitting the Random Forest model to the training set\n",
    "Rf.fit(train_x, train['housing_mean'])\n",
    "print Rf.feature_importances_, train_x.columns.values\n",
    "predictions = Rf.predict(test_x)\n",
    "print 'score:', Rf.score(test_x, test_y) # Printing Random Forest accuracy\n",
    "fimp = Rf.feature_importances_\n",
    "colvals = train_x.columns.values"
   ]
  },
  {
   "cell_type": "code",
   "execution_count": 6,
   "metadata": {
    "collapsed": false
   },
   "outputs": [
    {
     "name": "stdout",
     "output_type": "stream",
     "text": [
      "[ 848   12  186 ...,  116 1219 1217]\n",
      "['housret_sum', 'h_tenure_mean', 'f_mv_fs_mean', 'housret_mean', 'f_mv_fs_sum', 'hprop_val_sum', 'hprop_val_mean', 'prop_tax_sum', 'ffngcaid_sum', 'ffngcaid_mean', 'prop_tax_mean', 'hfoodno_mean', 'hfdval_mean', 'hfdval_missing_NotIn_mean', 'hpctcut_mean', 'ffngcare_mean', 'hfoodsp_sum', 'ffngcare_sum', 'p_mvcaid_mean', 'h_tenure_sum', 'hfoodsp_mean', 'a_age_mean', 'hfoodmo_mean', 'hfoodmo_sum', 'ftotval_mean', 'ptotval_mean', 'a_age_sum', 'hothval_mean', 'ptotval_sum', 'gtcbsa_mean', 'gestfips_mean', 'ftotval_sum', 'fmoop_mean', 'p_mvcaid_sum', 'gestfips_sum', 'hefaminc_mean', 'pothval_mean', 'fothval_mean', 'gtcbsa_sum', 'a_fnlwgt_sum', 'mon_mean', 'moop_mean', 'hearnval_mean', 'gestcen_mean', 'hfoodno_sum', 'hearnval_sum', 'fmoop_sum', 'hfdval_missing_NotIn_sum', 'a_fnlwgt_mean', 'i_hloren_sum', 'hefaminc_sum', 'moop_sum', 'pothval_sum', 'hhinc_mean', 'povll_sum', 'age1_mean', 'hengval_mean', 'gestcen_sum', 'prdtrace_mean', 'hhinc_sum', 'a_hga_mean', 'fothval_sum', 'family_net_income_mean', 'i_hloren_mean', 'hothval_sum', 'potc_val_sum', 'prdtrace_sum', 'potc_val_mean', 'mcaid_mean', 'pmed_val_mean', 'family_net_income_sum', 'a_hga_sum', 'caid_mean', 'hwsval_mean', 'hengval_sum', 'unearned_income_mean', 'fmed_val_mean', 'agi_sum', 'fotc_val_mean', 'earned_income_mean', 'fotc_val_sum', 'age1_sum', 'pmed_val_sum', 'ffoodreq_mean', 'hpctcut_sum', 'unearned_income_sum', 'hengast_sum', 'fmed_val_sum', 'povll_mean', 'fedtax_bc_mean', 'mon_sum', 'tax_inc_mean', 'hhdfmx_sum', 'ptot_r_mean', 'hwsval_sum', 'h_mis_sum', 'gtco_mean', 'ftot_r_sum', 'hnumfam_mean', 'filestat_sum', 'agi_mean', 'pehruslt_sum', 'famlis_mean', 'fedtax_ac_mean', 'h_mis_mean', 'ptot_r_sum', 'marg_tax_mean', 'mig_div_sum', 'gtco_sum', 'gtcsa_sum', 'hhdfmx_mean', 'fam_unearned_income_sum', 'ffoodreq_sum', 'gtcsa_mean', 'h_idnum2_sum', 'mig_div_mean', 'mig_reg_sum', 'hnumfam_sum', 'fedtax_ac_sum', 'p_unearned_mean', 'pearnval_mean', 'ftot_r_mean', 'fam_unearned_income_mean', 'hssval_mean', 'gtcbsasz_sum', 'p_unearned_sum', 'pefntvty_mean', 'gereg_sum', 'hea_mean', 'earned_income_sum', 'gediv_mean', 'gtcbsasz_mean', 'hinc_ws_mean', 'gediv_sum', 'pehruslt_mean', 'hengast_mean', 'fedtax_bc_sum', 'hhi_yn_mean', 'hssval_sum', 'h_idnum2_mean', 'ss_val_mean', 'fssval_mean', 'hea_sum', 'hrswk_sum', 'h_numper_sum', 'gereg_mean', 'p_mvcare_mean', 'fwsval_mean', 'mcaid_sum', 'industry_mean', 'fam_earned_income_mean', 'fwsval_sum', 'mig_reg_mean', 'p_mvcare_sum', 'peioocc_mean', 'occup_mean', 'ss_val_sum', 'peioocc_sum', 'occup_sum', 'pefntvty_sum', 'marg_tax_sum', 'pemntvty_mean', 'pemntvty_sum', 'caid_sum', 'perlis_mean', 'current_recipient_mean', 'peioind_sum', 'fearnval_mean', 'a_maritl_mean', 'hpres_mort_mean', 'a_dtocc_mean', 'statetax_bc_mean', 'h_numper_mean', 'a_mjind_mean', 'statetax_bc_sum', 'hhi_yn_sum', 'tax_inc_sum', 'ssi_val_mean', 'phip_val_mean', 'poccu2_sum', 'fica_sum', 'ssi_val_sum', 'a_dtind_sum', 'penatvty_sum', 'a_dtind_mean', 'a_uslhrs_sum', 'fearnval_sum', 'i_hpubli_sum', 'hrswk_mean', 'pxlndad_mean', 'fssval_sum', 'p_earned_sum', 'poccu2_mean', 'a_hrspay_sum', 'fhip_val_sum', 'peioind_mean', 'i_phipval_mean', 'phip_val_sum', 'fssival_sum', 'a_dtocc_sum', 'wemocg_mean', 'hpres_mort_sum', 'fica_mean', 'weind_mean', 'p_earned_mean', 'wicyn_mean', 'statetax_ac_mean', 'filestat_mean', 'industry_sum', 'a_hrs1_sum', 'disability_mean', 'fam_earned_income_sum', 'wkswork_sum', 'a_maritl_sum', 'hmcaid_sum', 'a_hrs1_mean', 'statetax_ac_sum', 'wkcheck_sum', 'i_hpubli_mean', 'ern_val_mean', 'i_phipval_sum', 'wsal_val_mean', 'weind_sum', 'wsal_val_sum', 'wemocg_sum', 'mig_st_mean', 'penatvty_mean', 'fhip_val_mean', 'a_wkstat_mean', 'h_type_sum', 'a_ernlwt_mean', 'a_ernlwt_sum', 'i_propval_mean', 'prdthsp_mean', 'eit_cred_mean', 'wemind_mean', 'fpctcut_mean', 'perlis_sum', 'a_mjind_sum', 'ern_val_sum', 'a_lineno_mean', 'a_mjocc_sum', 'gtcbsast_sum', 'prdthsp_sum', 'peinusyr_mean', 'wexp_sum', 'pearnval_sum', 'eit_cred_sum', 'prdisflg_mean', 'flastidx_sum', 'famlis_sum', 'a_mjocc_mean', 'hrwicyn_sum', 'hrhtype_mean', 'hi_yn_sum', 'a_hrspay_mean', 'prswkxpns_mean', 'mig_st_sum', 'peinusyr_sum', 'a_sex_mean', 'gtcbsast_mean', 'h_respnm_sum', 'a_pfrel_mean', 'a_uslhrs_mean', 'hrwicyn_mean', 'rsnnotw_sum', 'noemp_mean', 'wemind_sum', 'prdisflg_sum', 'hrcheck_sum', 'ptweeks_sum', 'fssival_mean', 'h_respnm_mean', 'cov_hi_sum', 'hrhtype_sum', 'pxlnmom_mean', 'resnssi1_missing_NIU_mean', 'rsnnotw_mean', 'i_hfoods_sum', 'prwkstat_mean', 'h_type_mean', 'dis_hp_mean', 'prcitshp_sum', 'hintval_sum', 'welknw_mean', 'hwsval_missing_NoneIn_sum', 'int_val_mean', 'clwk_sum', 'fpovcut_mean', 'pppos_mean', 'fpctcut_sum', 'hrcheck_mean', 'wkswork_mean', 'resnssi1_mean', 'fpovcut_sum', 'wicyna_mean', 'hrnumwic_sum', 'hintval_mean', 'fintval_mean', 'peio1cow_mean', 'ptweeks_mean', 'nxtres_mean', 'perrp_sum', 'pedisrem_mean', 'a_wkstat_sum', 'hwsval_missing_NoneIn_mean', 'hhdrel_mean', 'ppposold_mean', 'nxtres_sum', 'hinc_ws_sum', 'h_livqrt_mean', 'a_lineno_sum', 'paw_mon_mean', 'pedisphy_mean', 'pelnmom_mean', 'ssi_val_missing_NoneIn_mean', 'fintval_sum', 'dis_hp_sum', 'fhousreq_sum', 'i_pmedval_sum', 'a_clswkr_mean', 'prcow1_mean', 'ssi_yn_mean', 'i_hengas_sum', 'ftype_mean', 'pecohab_sum', 'resnss1_mean', 'int_val_sum', 'prswkxpns_sum', 'famrel_sum', 'hi_yn_mean', 'prcitshp_mean', 'disability_sum', 'pxlndad_sum', 'a_lfsr_mean', 'wkcheck_mean', 'a_exprrp_mean', 'prptrea_mean', 'resnss1_sum', 'paw_mon_sum', 'mig_cbst_mean', 'i_oth_mean', 'i_potcval_sum', 'fheadidx_sum', 'peio1cow_sum', 'prwkstat_sum', 'a_exprrp_sum', 'wicyn_sum', 'famrel_mean', 'weuemp_sum', 'parent_mean', 'fkind_sum', 'i_hengas_mean', 'h_telhhd_sum', 'clwk_mean', 'a_sex_sum', 'emcontrb_mean', 'i_caid_mean', 'i_hfoods_mean', 'cov_hi_mean', 'fhousreq_mean', 'pehspnon_sum', 'i_hi_sum', 'pedisout_mean', 'fheadidx_mean', 'h_telint_sum', 'pxlnmom_sum', 'wexp_mean', 'paw_val_sum', 'perrp_mean', 'actc_crd_mean', 'hpawval_mean', 'fpawval_mean', 'fkind_mean', 'noemp_sum', 'gtmetsta_sum', 'mig_mtr3_sum', 'i_potcval_mean', 'ljcw_mean', 'hmcaid_mean', 'mig_cbst_sum', 'i_oth_sum', 'ftype_sum', 'prptrea_sum', 'migsame_sum', 'finc_ssi_sum', 'pxafever_sum', 'paw_val_mean', 'i_pmedval_mean', 'pxafwhn1_mean', 'a_famtyp_sum', 'mig_mtr4_sum', 'gtindvpc_sum', 'hucval_mean', 'h_livqrt_sum', 'weuemp_mean', 'pedisphy_sum', 'a_wkslk_mean', 'fspanish_sum', 'ptrsn_sum', 'pppos_sum', 'pecohab_mean', 'i_hfoodn_sum', 'ptrsn_mean', 'ppposold_sum', 'pemlr_mean', 'hcspval_mean', 'weclw_mean', 'i_priv_sum', 'hrnumwic_mean', 'pehspnon_mean', 'pxafever_mean', 'a_famrel_sum', 'hiown_mean', 'pxafwhn1_sum', 'f_mv_sl_sum', 'i_care_sum', 'mig_mtr4_mean', 'a_nlflj_mean', 'weclw_sum', 'i_hea_sum', 'a_famrel_mean', 'pedisrem_sum', 'a_wkslk_sum', 'i_ostyp_mean', 'i_propval_sum', 'i_ostper_mean', 'paw_typ_mean', 'fpawval_sum', 'h_telint_mean', 'mig_mtr3_mean', 'hucval_sum', 'emcontrb_sum', 'hmcare_sum', 'i_hengva_sum', 'pxmomtyp_sum', 'ws_val_mean', 'pedisdrs_mean', 'hedval_sum', 'i_caid_sum', 'prcow1_sum', 'a_lfsr_sum', 'dis_cs_mean', 'a_wksch_mean', 'ss_yn_mean', 'pxmomtyp_mean', 'a_whenlj_mean', 'welknw_sum', 'mcare_sum', 'cov_gh_sum', 'gtindvpc_mean', 'gtmetsta_mean', 'i_out_sum', 'ern_srce_sum', 'pruntype_mean', 'ssi_val_missing_NoneIn_sum', 'hh5to18_sum', 'i_ostper_sum', 'hedval_mean', 'resnssi1_missing_NIU_sum', 'care_mean', 'h_hhnum_sum', 'lkweeks_sum', 'ss_val_missing_NoneIn_sum', 'lkweeks_mean', 'pemlr_sum', 'fmlasidx_mean', 'ptotval_missing_NoneIn_mean', 'flastidx_mean', 'hipaid_sum', 'peafwhn1_mean', 'mcare_mean', 'i_hi_mean', 'hmcare_mean', 'i_mig1_mean', 'wicyna_sum', 'a_famtyp_mean', 'phmemprs_mean', 'hflunno_sum', 'pxdadtyp_mean', 'mig_mtr1_mean', 'hhdrel_sum', 'pxrace1_mean', 'mig_mtr1_sum', 'ffposold_mean', 'pxdadtyp_sum', 'fin_val_sum', 'i_mig1_sum', 'pxdisout_mean', 'i_ostyp_sum', 'pxdisrem_mean', 'i_out_mean', 'pelnmom_sum', 'ss_val_missing_NoneIn_mean', 'pedisout_sum', 'hhotno_sum', 'a_explf_mean', 'a_untype_mean', 'actc_crd_sum', 'h_telhhd_mean', 'pxrace1_sum', 'a_ftlf_sum', 'care_val_sum', 'a_pfrel_sum', 'a_hscol_mean', 'hfinval_mean', 'wrk_ck_mean', 'hcspval_sum', 'pedisdrs_sum', 'pxdiseye_mean', 'a_ftlf_mean', 'a_parent_mean', 'a_clswkr_sum', 'h_hhnum_mean', 'ffinval_mean', 'pelndad_mean', 'fspanish_mean', 'csp_val_mean', 'pxdisdrs_mean', 'i_intval_mean', 'a_nlflj_sum', 'ed_val_sum', 'a_explf_sum', 'phf_seq_sum', 'i_intval_sum', 'ws_val_sum', 'a_ftpt_mean', 'i_hunits_mean', 'int_val_missing_NoneIn_sum', 'i_care_mean', 'a_wantjb_mean', 'pxdisphy_mean', 'wewkrs_mean', 'fedval_mean', 'hpawval_sum', 'pruntype_sum', 'a_civlf_mean', 'dis_cs_sum', 'hflunno_mean', 'fwifeidx_sum', 'a_spouse_sum', 'a_wksch_sum', 'a_enrlw_mean', 'pyrsn_mean', 'fcspval_mean', 'hhotno_mean', 'uc_val_mean', 'hunder18_sum', 'frelu6_sum', 'f_mv_sl_mean', 'care_sum', 'earner_mean', 'ssi_yn_sum', 'fmlasidx_sum', 'prnlfsch_mean', 'i_priv_mean', 'i_hfdval_sum', 'fucval_sum', 'i_hunits_sum', 'fedval_sum', 'hfinval_sum', 'fl_665_mean', 'hiown_sum', 'int_yn_mean', 'ffinval_sum', 'a_hscol_sum', 'hh5to18_mean', 'parent_sum', 'finc_ss_sum', 'mig_dscp_sum', 'ljcw_sum', 'peafwhn1_sum', 'uc_val_sum', 'int_val_missing_NoneIn_mean', 'hssi_yn_sum', 'i_hea_mean', 'fin_val_mean', 'i_fhipval_sum', 'a_whenlj_sum', 'pemomtyp_mean', 'finc_int_sum', 'pxdisout_sum', 'a_spouse_mean', 'fhusbidx_mean', 'csp_val_sum', 'pediseye_mean', 'ssikidyn_missing_NIU_sum', 'hrpaidcc_sum', 'a_parent_sum', 'ed_val_mean', 'fhusbidx_sum', 'migsame_mean', 'a_ftpt_sum', 'pxdiseye_sum', 'fl_665_sum', 'pedisear_mean', 'pxdisrem_sum', 'hint_yn_sum', 'paw_yn_mean', 'paid_mean', 'phf_seq_mean', 'nwlkwk_mean', 'pediseye_sum', 'pxdisear_sum', 'pxdisear_mean', 'sskidyn_mean', 'pf_seq_sum', 'fcspval_sum', 'i_fhipval_mean', 'hss_yn_sum', 'fucval_mean', 'resnssi1_sum', 'fwifeidx_mean', 'penplan_mean', 'ch_mc_mean', 'a_grswk_mean', 'rsnnotw_missing_NotIn_mean', 'phmemprs_sum', 'prdasian_mean', 'ctc_crd_sum', 'wewkrs_sum', 'pxdisdrs_sum', 'ffposold_sum', 'hityp_mean', 'hiemp_mean', 'fownu6_sum', 'dep_stat_mean', 'pedadtyp_sum', 'mig_dscp_mean', 'pxnatvty_sum', 'a_untype_sum', 'p_stat_mean', 'ctc_crd_mean', 'hhotlun_sum', 'hunder18_mean', 'p_stat_sum', 'current_recipient_sum', 'a_hrlywk_mean', 'int_yn_sum', 'hityp_sum', 'pxdisphy_sum', 'hunder15_mean', 'fretval_mean', 'ss_yn_sum', 'i_ssval_mean', 'a_grswk_sum', 'hunder15_sum', 'i_hengva_mean', 'i_hfdval_mean', 'nwlkwk_sum', 'a_wantjb_sum', 'priv_mean', 'prnlfsch_sum', 'prpertyp_mean', 'pedadtyp_mean', 'i_ernsrc_mean', 'fspouidx_sum', 'hflunch_sum', 'finc_ssi_mean', 'pelndad_sum', 'pxfntvty_sum', 'finc_int_mean', 'pyrsn_sum', 'dep_stat_sum', 'hpaw_yn_sum', 'i_mon_sum', 'ssikidyn_missing_NIU_mean', 'a_enrlw_sum', 'fpersons_mean', 'care_val_mean', '80_84__missing_mean', 'hfin_yn_sum', 'oth_sum', 'h_telavl_sum', 'prerelg_mean', 'hssi_yn_mean', 'hipaid_mean', 'rtm_val_sum', 'paw_yn_sum', 'paid_sum', 'hi_mean', 'rtm_val_missing_NoneIn_sum', 'pedisrem_missing_NIU_mean', 'pxinusyr_mean', 'chelsew_yn_mean', 'fin_yn_mean', 'ptot_r_missing_NotIn_mean', 'peafever_mean', 'rtm_val_mean', 'pedisdrs_missing_NIU_mean', 'ptyn_mean', 'i_hfoodn_mean', 'hss_yn_mean', 'prityp_mean', 'ptotval_missing_NoneIn_sum', 'prdasian_sum', 'prpertyp_sum', 'prdisc_mean', 'a_hrlywk_sum', 'paw_typ_sum', 'ret_val1_sum', 'pedisear_missing_NIU_mean', 'i_ssval_sum', 'cov_gh_mean', 'i_penpla_mean', 'ret_val1_mean', 'pedisear_sum', '80_84__missing_sum', 'workyn_mean', 'uc_val_missing_NoneIn_mean', 'a_uslft_mean', 'hi_sum', 'pedisout_missing_NIU_mean', 'uc_val_missing_NoneIn_sum', 'a_famnum_sum', 'i_hfoodm_sum', 'i_ernval_mean', 'fretval_sum', 'i_pout_mean', 'frelu6_mean', 'hilin1_mean', 'pxfntvty_mean', 'int_yn_missing_NotIn_mean', 'hretval_sum', 'pearnval_missing_NoneIn_sum', 'ihsflg_mean', 'lkstrch_mean', 'pchip_mean', 'finc_csp_sum', 'hint_yn_mean', 'prerelg_sum', 'pedisphy_missing_NIU_mean', 'peafever_sum', 'pxcohab_sum', 'pearnval_missing_NoneIn_mean', 'csp_yn_mean', 'pemlr_missing_NIU_mean', 'axenrlw_sum', 'axhga_mean', 'hretval_mean', 'resnss2_sum', 'paidccyn_mean', 'finc_uc_sum', 'priv_sum', 'csp_val_missing_NoneIn_mean', 'i_noemp_mean', 'ern_srce_mean', 'tpotc_val_mean', 'otyp_4_sum', 'frelu18_sum', 'prityp_sum', 'finc_fin_sum', 'hrpaidcc_mean', 'ern_yn_mean', 'axenrlw_mean', 'ihsflg_sum', 'pxinusyr_sum', 'hiemp_sum', 'wsal_val_missing_NoneIn_mean', 'out_sum', 'penplan_sum', 'fpersons_sum', 'finc_paw_sum', 'uc_yn_mean', 'finc_ss_mean', 'resnss2_mean', 'axage_sum', 'fownu18_sum', 'out_mean', 'fdisval_mean', 'hinc_uc_sum', 'hchamp_sum', 'a_famnum_mean', 'uc_yn_missing_NotIn_mean', 'nwlook_mean', 'wsal_val_missing_NoneIn_sum', 'ern_otr_mean', 'hpaw_yn_mean', 'pxmntvty_mean', 'oi_off_missing_NIU_sum', 'fownu6_mean', 'hoival_sum', 'ed_yn_mean', 'pediseye_missing_NIU_mean', 'penincl_mean', 'i_ptwks_mean', 'pxcohab_mean', 'pxmntvty_sum', 'fownu18_mean', 'othstyp1_mean', 'fin_yn_sum', 'csp_val_missing_NoneIn_sum', 'oth_mean', 'pf_seq_mean', 'frelu18_mean', 'penincl_sum', 'fvetval_sum', 'pemomtyp_sum', 'chelsew_yn_sum', 'h_telavl_mean', 'ssi_yn_missing_NotIn_mean', 'hdisval_sum', 'a_civlf_sum', 'hcsp_yn_sum', 'hfin_yn_mean', 'ch_hi_mean', 'hdisval_mean', 'vet_val_mean', 'i_noemp_sum', 'hinc_uc_mean', 'ptyn_sum', 'a_whyabs_mean', 'i_ssival_sum', 'i_ernsrc_sum', 'finc_ed_sum', 'otyp_4_mean', 'othstper_mean', 'hed_yn_sum', 'axhscol_mean', 'pchip_sum', 'othstyp1_sum', 'a_whyabs_sum', 'finc_ws_sum', 'i_mon_mean', 'sskidyn_sum', 'i_ernval_sum', 'hhstatus_mean', 'axhscol_sum', 'oi_val_missing_NoneIn_sum', 'vet_typ1_missing_NotIn_sum', 'i_ssiyn_mean', 'a_uslft_sum', 'ret_sc1_sum', 'i_pout_sum', 'htotval_missing_NoneIn_sum', 'axhga_sum', 'dis_hp_missing_NotIn_mean', 'champ_sum', 'i_ssyn_mean', 'paw_yn_missing_NotIn_mean', 'ret_sc1_mean', 'hilin1_sum', 'rsnnotw_missing_NotIn_sum', 'fspouidx_mean', 'axclswkr_mean', 'pov_univ_sum', 'i_ssyn_sum', 'nwlook_sum', 'hflunch_mean', 'ftotval_missing_NoneIn_sum', 'paidcyna_mean', 'ch_mc_sum', 'hhstatus_sum', 'dephi_mean', 'axftpt_sum', 'hhotlun_mean', 'vet_val_missing_NoneIn_sum', 'prdisc_sum', 'resnssi2_missing_NIU_sum', 'i_hfoodm_mean', 'hoival_mean', 'semp_val_mean', 'i_peninc_mean', 'wsal_yn_mean', 'i_paid_mean', 'i_pawyn_mean', 'finc_paw_mean', 'dsab_val_sum', 'div_val_missing_NoneIn_sum', 'peabsrsn_sum', 'i_ssival_mean', 'paidcyna_sum', 'lkstrch_sum', 'sur_sc1_mean', 'ern_otr_sum', 'i_finyn_mean', 'ed_yn_sum', 'chsp_val_sum', 'semp_val_missing_NoneIn_sum', 'champ_mean', 'finc_ed_mean', 'axage_mean', 'finc_fin_mean', 'hed_yn_mean', 'othstper_sum', 'fdivval_mean', 'axrrp_mean', 'rnt_val_missing_NoneIn_sum', 'hcsp_yn_mean', 'dis_val1_sum', 'wageotr_mean', 'earner_missing_NotIn_mean', 'i_divyn_mean', 'hvetval_mean', 'earner_missing_NotIn_sum', 'fseval_mean', 'oi_val_sum', 'oi_val_mean', 'wc_val_mean', 'hseval_mean', 'axftpt_mean', 'i_ptwks_sum', 'pxnatvty_mean', 'i_hiout_mean', 'peafwhn2_mean', 'paidccyn_sum', 'i_ssiyn_sum', 'i_divyn_sum', 'i_rntyn_mean', 'dis_sc1_mean', 'peabsrsn_mean', 'axclswkr_sum', 'dis_yn_mean', 'int_yn_missing_NotIn_sum', 'wageotr_sum', 'srvs_val_sum', 'axmaritl_mean', 'oed_typ1_mean', 'otyp_1_sum', 'paw_yn_missing_NotIn_sum', 'i_ptrsn_mean', 'pedisdrs_missing_NIU_sum', 'div_val_mean', 'uc_yn_missing_NotIn_sum', 'i_penpla_sum', 'pilin1_mean', 'i_pawyn_sum', 'ern_yn_sum', 'fsurval_sum', 'i_intyn_mean', 'pedisphy_missing_NIU_sum', 'hdivval_sum', 'wc_val_sum', 'hdis_yn_sum', 'h1telhhd_mean', 'chsp_val_mean', 'fdisval_sum', 'tpotc_val_sum', 'hret_yn_sum', 'hdivval_mean', 'i_hflunc_sum', 'frse_val_missing_NoneIn_sum', 'hvetval_sum', 'fed_ret_mean', 'pedisear_missing_NIU_sum', 'sur_val1_sum', 'resnssa_mean', 'earner_sum', 'i_rntyn_sum', 'i_disyn_mean', 'sur_val1_mean', 'sur_sc1_sum', 'srvs_val_mean', 'axrrp_sum', 'hoi_yn_mean', 'ptot_r_missing_NotIn_sum', 'uc_yn_sum', 'otyp_1_mean', 'i_intyn_sum', 'i_suryn_mean', 'h1telhhd_sum', 'i_ucyn_mean', 'hchamp_mean', 'finc_ret_mean', 'oed_typ3_mean', 'wsal_yn_sum', 'hret_yn_mean', 'dis_val1_mean', 'finc_div_sum', 'ssi_yn_missing_NotIn_sum', 'hsurval_mean', 'pedisout_missing_NIU_sum', 'h_year_sum', 'hsurval_sum', 'fseval_sum', 'depriv_sum', 'pedisrem_missing_NIU_sum', 'pxhspnon_sum', 'oi_off_mean', 'i_finyn_sum', 'finc_csp_mean', 'dephi_sum', 'i_wcyn_mean', 'ftotval_missing_NoneIn_mean', 'i_cspyn_mean', 'vet_val_sum', 'oed_typ2_sum', 'rtm_val_missing_NoneIn_mean', 'workyn_sum', 'finc_ret_sum', 'ch_hi_sum', 'foival_mean', 'dsab_val_mean', 'pemlr_missing_NIU_sum', 'fsurval_mean', 'rnt_val_mean', 'dis_hp_missing_NotIn_sum', 'i_pchip_mean', 'i_hiout_sum', 'oi_yn_sum', 'fwcval_mean', 'ret_yn_mean', 'hdiv_yn_sum', 'semp_val_sum', 'depriv_mean', 'i_ptyn_mean', 'seotr_mean', 'i_suryn_sum', 'fvetval_mean', 'oed_typ2_mean', 'i_hhotno_sum', 'pediseye_missing_NIU_sum', 'hseval_sum', 'hwcval_mean', 'hsur_yn_sum', 'pilin1_sum', 'i_paid_sum', 'otyp_3_mean', 'i_mig3_sum', 'i_nwlkwk_mean', 'i_finval_mean', 'se_val_mean', 'peafwhn2_sum', 'foival_sum', 'i_hhotlu_sum', 'hinc_wc_sum', 'otyp_3_sum', 'i_hflunn_sum', 'i_mig2_sum', 'axhrlywk_mean', 'fdivval_sum', 'hinc_se_sum', 'finc_dis_sum', 'i_hflunc_mean', 'hiout_mean', 'chsp_yn_mean', 'i_finval_sum', 'axmaritl_sum', 'wtemp_mean', 'wrk_ck_sum', 'oi_off_sum', 'csp_yn_sum', 'i_peninc_sum', 'i_cspval_mean', 'i_nxtres_mean', 'i_otyp_mean', 'fwcval_sum', 'dis_sc1_sum', 'hdis_yn_mean', 'oi_off_missing_NIU_mean', 'i_ptyn_sum', 'finc_oi_sum', 'oed_typ1_sum', 'pxhspnon_mean', 'i_hrswk_mean', 'i_otyp_sum', 'i_almyn_sum', 'hoi_yn_sum', 'i_wsval_mean', 'i_wcyn_sum', 'finc_uc_mean', 'htotval_missing_NoneIn_mean', 'rnt_val_sum', 'fed_ret_sum', 'i_vetyn_mean', 'i_pawmo_sum', 'i_almyn_mean', 'i_nwlook_mean', 'sur_yn_sum', 'div_val_sum', 'vet_yn_sum', 'hfrval_sum', 'i_disyn_sum', 'oi_val_missing_NoneIn_mean', 'i_cspyn_sum', 'finc_vet_sum', 'resnssa_sum', 'frspov_mean', 'i_edyn_mean', 'vet_val_missing_NoneIn_mean', 'frntval_sum', 'i_retyn_mean', 'finc_wc_sum', 'vet_qva_mean', 'i_ptrsn_sum', 'finc_dis_mean', 'vet_typ1_mean', 'i_edyn_sum', 'finc_se_sum', 'semp_val_missing_NoneIn_mean', 'i_vetyn_sum', 'finc_ws_mean', 'frspov_sum', 'hrntval_mean', 'finc_sur_mean', 'rnt_yn_mean', 'otyp_5_sum', 'dis_yn_sum', 'i_ucval_mean', 'pout_sum', 'i_dephi_sum', 'frntval_mean', 'resnssia_sum', 'i_dishp_mean', 'i_ucyn_sum', 'i_retyn_sum', 'i_hhotlu_mean', 'chsp_yn_sum', 'div_val_missing_NoneIn_mean', 'hdiv_yn_mean', 'axhrlywk_sum', 'hwcval_sum', 'i_pchip_sum', 'div_yn_mean', 'hinc_fr_sum', 'oi_yn_mean', 'se_val_sum', 'i_pawmo_mean', 'i_rsnnot_sum', 'i_pyrsn_mean', 'i_oedval_mean', 'i_retvl1_mean', 'i_mig2_mean', 'wc_yn_mean', 'i_divval_sum', 'div_yn_sum', 'hrntval_sum', 'axhrs_mean', 'hfrval_mean', 'prwernal_mean', 'ret_yn_sum', 'i_divval_mean', 'losewks_mean', 'wc_type_mean', 'i_nxtres_sum', 'vet_yn_mean', 'hvet_yn_mean', 'vet_typ1_missing_NotIn_mean', 'pout_mean', 'sur_yn_mean', 'prhernal_sum', 'i_phmemp_mean', 'semp_yn_mean', 'i_retvl1_sum', 'i_pyrsn_sum', 'i_cspval_sum', 'i_depriv_mean', 'finc_sur_sum', 'finc_oi_mean', 'hinc_se_mean', 'a_unmem_mean', 'i_rntval_sum', 'i_oedval_sum', 'i_nwlook_sum', 'i_losewk_mean', 'i_hhotno_mean', 'i_mig3_mean', 'a_payabs_sum', 'finc_vet_mean', 'vet_qva_sum', 'i_careval_sum', 'seotr_sum', 'ssikidyn_sum', 'axhrs_sum', 'i_hrchk_sum', 'i_nwlkwk_sum', 'vet_typ1_sum', 'hiout_sum', 'hsur_yn_mean', 'i_wkswk_mean', 'hilin2_mean', 'i_edtyp1_sum', 'i_wkchk_mean', 'finc_div_mean', 'prwernal_sum', 'a_payabs_mean', 'finc_fr_sum', 'hinc_wc_mean', 'i_wsval_sum', 'finc_se_mean', 'semp_yn_sum', 'i_edtyp1_mean', 'i_careval_mean', 'hvet_yn_sum', 'axlfsr_sum', 'i_frmyn_mean', 'i_losewk_sum', 'frsppct_mean', 'wtemp_sum', 'oed_typ3_sum', 'i_rntval_mean', 'ffrval_sum', 'tphip_val_mean', 'i_dephi_mean', 'i_hrswk_sum', 'i_workyn_sum', 'i_depriv_sum', 'otyp_2_mean', 'i_lkweek_mean', 'i_dishp_sum', 'i_ucval_sum', 'otyp_2_sum', 'i_retsc1_mean', 'frsppct_sum', 'finc_rnt_mean', 'i_pawval_sum', 'frm_val_mean', 'wc_type_sum', 'frse_val_mean', 'rnt_yn_sum', 'i_rsnnot_mean', 'hrnt_yn_mean', 'frmotr_sum', 'rnt_val_missing_NoneIn_mean', 'i_wkchk_sum', 'finc_wc_mean', 'i_indus_mean', 'i_pawval_mean', 'i_hrchk_mean', 'i_seyn_sum', 'i_occup_sum', 'ssikidyn_mean', 'resnssi2_missing_NIU_mean', 'frse_val_sum', 'resnssia_mean', 'tphip_val_sum', 'finc_rnt_sum', 'i_wsyn_mean', 'losewks_sum', 'i_wkswk_sum', 'i_discs_mean', 'resnssi2_sum', 'peafwhn3_sum', 'subuc_mean', 'hinc_fr_mean', 'tpmed_val_mean', 'i_phmemp_sum', 'i_hflunn_mean', 'hilin2_sum', 'i_seyn_mean', 'i_lkstr_mean', 'hrnt_yn_sum', 'prhernal_mean', 'i_ljcw_sum', 'i_frmval_mean', 'i_survl1_sum', 'i_sursc1_sum', 'i_discs_sum', 'axuslhrs_mean', 'i_workyn_mean', 'wc_yn_sum', 'i_frmval_sum', 'i_ljcw_mean', 'i_survl1_mean', 'a_werntf_mean', 'axnlflj_mean', 'a_unmem_sum', 'i_retsc1_sum', 'i_disvl1_mean', 'ssikdyna_sum', 'htop5pct_sum', 'i_lkweek_sum', 'axlfsr_mean', 'axuncov_mean', 'axsex_mean', 'frmotr_mean', 'frse_yn_mean', 'tcsp_val_mean', 'i_ernyn_mean', 'frse_val_missing_NoneIn_mean', 'vet_typ5_sum', 'a_werntf_sum', 'axunmem_sum', 'i_ernyn_sum', 'frm_val_sum', 'subuc_sum', 'finc_fr_mean', 'ffrval_mean', 'i_chspval_sum', 'i_seval_mean', 'i_lkstr_sum', 'i_chspval_mean', 'tpmed_val_sum', 'i_dissc1_mean', 'ssikdyna_mean', 'i_occup_mean', 'peafwhn3_mean', 'otyp_5_mean', 'axuncov_sum', 'h1telavl_sum', 'i_vetval_sum', 'i_wsyn_sum', 'axnlflj_sum', 'frse_yn_sum', 'i_indus_sum', 'i_vetqva_mean', 'i_disvl1_sum', 'finc_alm_sum', 'axsex_sum', 'vet_typ3_mean', 'vet_typ5_mean', 'vet_typ4_sum', 'i_wctyp_sum', 'i_vetval_mean', 'resnssi2_mean', 'falmval_mean', 'axunmem_mean', 'i_frmyn_sum', 'tcsp_val_sum', 'tint_val_sum', 'i_sursc1_mean', 'vet_typ4_mean', 'vet_typ3_sum', 'i_wctyp_mean', 'i_seval_sum', 'alm_val_mean', 'i_oival_mean', 'halm_yn_sum', 'halmval_sum', 'axuslhrs_sum', 'i_dissc1_sum', 'alm_yn_sum', 'ret_val2_sum', 'i_vetqva_sum', 'i_pawtyp_mean', 'ret_val2_mean', 'halm_yn_mean', 'ted_val_mean', 'i_chspyn_mean', 'i_pawtyp_sum', 'falmval_sum', 'alm_yn_mean', 'i_chelsewyn_sum', 'i_oival_sum', 'a_uncov_sum', 'h1telavl_mean', 'htop5pct_mean', 'alm_val_sum', 'axpayabs_sum', 'halmval_mean', 'i_chspyn_sum', 'tint_val_mean', 'ted_val_sum', 'pov_univ_mean', 'i_chelsewyn_mean', 'vet_typ2_sum', 'h1tenure_mean', 'i_vettyp_mean', 'axspouse_sum', 'vet_typ2_mean', 'tcernval_sum', 'axspouse_mean', 'finc_alm_mean', 'a_uncov_mean', 'dis_val2_mean', 'ret_sc2_mean', 'tdisval1_sum', 'tfin_val_sum', 'h_month_sum', 'sskidyna_sum', 'frecord_sum', 'strkuc_mean', 'h_hhtype_sum', 'othstyp5_mean', 'i_retvl2_sum', 'h_month_mean', 'h_typebc_sum', 'axwhyabs_sum', 'thprop_val_sum', 'h_year_mean', '85_95__missing_sum', 'i_wcval_mean', 'tretval1_sum', 'h_typebc_mean', 'h_hhtype_mean', 'tcare_val_sum', 'othstyp6_mean', 'i_wcval_sum', 'othstyp4_mean', 'i_sursc2_sum', 'tretval2_sum', 'sur_val2_mean', 'ahiper_mean', 'sur_sc2_mean', 'i_vettyp_sum', 'iahiper_sum', 'dis_sc2_mean', 'iahityp_sum', 'pilin2_mean', 'i_retsc2_mean', 'i_survl2_sum', 'div_non_mean', 'lknone_sum', 'h1tenure_sum', 'div_non_sum', 'h1livqrt_sum', 'h1telint_sum', 'peafwhn4_mean', 'tdiv_val_sum', 'i_dissc2_sum', 'i_disvl2_sum', 'othstyp3_mean', 'othstyp2_mean', 'pilin2_sum', 'ahityp1_mean', 'i_survl2_mean', 'lknone_mean', 'peafwhn4_sum', 'iahiper_mean', 'iahityp_mean', 'i_wtemp_sum', 'i_almval_sum', 'tcseval_sum', 'othstyp2_sum', 'axwhyabs_mean', 'i_sursc2_mean', 'a_herntf_mean', 'tcernval_mean', 'othstyp3_sum', 'tcwsval_mean', 'tcseval_mean', 'othstyp4_sum', 'i_retsc2_sum', 'axpayabs_mean', 'tcffmval_mean', 'dis_sc2_sum', 'sur_val2_sum', 'i_disvl2_mean', 'sur_sc2_sum', 'i_dissc2_mean', 'i_wtemp_mean', 'tchsp_val_sum', 'tsurval2_sum', 'i_retvl2_mean', 'precord_sum', 'tsurval1_sum', 'toi_val_sum', 'i_edtyp2_mean', 'i_almval_mean', 'dis_val2_sum', 'talm_val_sum', 'tcffmval_sum', 'strkuc_sum', 'tsurval1_mean', 'ahityp2_mean', 'tdisval2_sum', 'toi_val_mean', 'tcwsval_sum', 'tchsp_val_mean', 'a_herntf_sum', 'trnt_val_sum', 'precord_mean', 'sskidyna_mean', 'ahityp6_mean', 'thprop_val_mean', 'h1telint_mean', 'ahityp5_mean', 'h1livqrt_mean', 'ahityp4_mean', 'i_edtyp2_sum', '85_95__missing_mean', 'ahityp3_mean', 'tfin_val_mean', 'talm_val_mean', 'othstyp5_sum', 'ahityp1_sum', 'othstyp6_sum', 'tsurval2_mean', 'tdisval1_mean', 'tdisval2_mean', 'tretval1_mean', 'tretval2_mean', 'ahiper_sum', 'ahityp2_sum', 'ahityp6_sum', 'tdiv_val_mean', 'ahityp4_sum', 'frecord_mean', 'trnt_val_mean', 'ret_sc2_sum', 'tcare_val_mean', 'ahityp5_sum', 'ahityp3_sum']\n",
      "[ 0.01325346  0.01314277  0.01078789 ...,  0.          0.          0.        ]\n"
     ]
    }
   ],
   "source": [
    "features = Rf.feature_importances_\n",
    "maxes = np.argsort(features)[::-1]\n",
    "print maxes\n",
    "print list(train_x[maxes].columns.values)\n",
    "print features[maxes]"
   ]
  },
  {
   "cell_type": "code",
   "execution_count": 7,
   "metadata": {
    "collapsed": false
   },
   "outputs": [
    {
     "name": "stdout",
     "output_type": "stream",
     "text": [
      "[[ 1.     0.   ]\n",
      " [ 1.     0.   ]\n",
      " [ 1.     0.   ]\n",
      " ..., \n",
      " [ 1.     0.   ]\n",
      " [ 1.     0.   ]\n",
      " [ 0.995  0.005]]\n"
     ]
    }
   ],
   "source": [
    "get_probs = CPS_use.copy()\n",
    "get_probs = get_probs.drop(['hunits_sum', 'hhpos_sum', 'h_seq_sum', 'hrecord_sum', 'ph_seq_sum',\\\n",
    "                        'housing_sum','fhoussub_sum', 'hssival_sum', 'hunits_mean', 'hhpos_mean',\\\n",
    "                        'h_seq_mean', 'hrecord_mean', 'ph_seq_mean','housing_mean','fhoussub_mean',\\\n",
    "                        'hssival_mean', 'hsup_wgt_mean', 'fsup_wgt_mean', 'marsupwt_mean',\\\n",
    "                        'hsup_wgt_sum', 'marsupwt_sum', 'fsup_wgt_sum','htotval_mean', 'peridnum_mean',\\\n",
    "                        'h_idnum1_sum', 'h_idnum1_mean','htotval_sum','hfdval_sum'],1)\n",
    "\n",
    "prediction_vec = Rf.predict_proba(get_probs)\n",
    "print prediction_vec"
   ]
  },
  {
   "cell_type": "code",
   "execution_count": 8,
   "metadata": {
    "collapsed": false
   },
   "outputs": [],
   "source": [
    "if use_spm_data == True:\n",
    "    np.savetxt('rf_probs_spm.csv', prediction_vec)\n",
    "    \n",
    "else:\n",
    "    np.savetxt('rf_probs.csv', prediction_vec)"
   ]
  },
  {
   "cell_type": "code",
   "execution_count": null,
   "metadata": {
    "collapsed": true
   },
   "outputs": [],
   "source": []
  }
 ],
 "metadata": {
  "kernelspec": {
   "display_name": "Python [default]",
   "language": "python",
   "name": "python2"
  },
  "language_info": {
   "codemirror_mode": {
    "name": "ipython",
    "version": 2
   },
   "file_extension": ".py",
   "mimetype": "text/x-python",
   "name": "python",
   "nbconvert_exporter": "python",
   "pygments_lexer": "ipython2",
   "version": "2.7.13"
  }
 },
 "nbformat": 4,
 "nbformat_minor": 0
}
